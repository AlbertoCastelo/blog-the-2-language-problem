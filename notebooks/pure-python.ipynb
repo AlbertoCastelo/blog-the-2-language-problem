{
 "cells": [
  {
   "cell_type": "markdown",
   "metadata": {},
   "source": [
    "# Pure Python"
   ]
  },
  {
   "cell_type": "code",
   "execution_count": 30,
   "metadata": {},
   "outputs": [],
   "source": [
    "import numpy as np\n",
    "import pandas as pd\n",
    "import time"
   ]
  },
  {
   "cell_type": "code",
   "execution_count": 18,
   "metadata": {},
   "outputs": [],
   "source": [
    "class Node:\n",
    "    def __init__(self, key, mutate_rate, possible_bias_values):\n",
    "        self.key = key\n",
    "        self.mutate_rate = mutate_rate\n",
    "        self.possible_bias_values = possible_bias_values\n",
    "        self._bias = 0.0\n",
    "\n",
    "    def get_bias(self):\n",
    "        return self._bias\n",
    "\n",
    "    def mutate_bias(self):\n",
    "        r = np.random.random()\n",
    "        if r < self.mutate_rate:\n",
    "            self._bias = np.random.choice(self.possible_bias_values, size=1)[0]\n",
    "\n",
    "\n",
    "def initialize_nodes(n_nodes, mutate_rate, possible_bias_values):\n",
    "    nodes = {}\n",
    "    for i in range(n_nodes):\n",
    "        node = Node(i, \n",
    "                    mutate_rate, \n",
    "                    possible_bias_values)\n",
    "        node.mutate_bias()\n",
    "        nodes[i] = node\n",
    "    return nodes"
   ]
  },
  {
   "cell_type": "code",
   "execution_count": 20,
   "metadata": {},
   "outputs": [
    {
     "data": {
      "text/plain": [
       "[0, 1, 2, 3, 4, 5, 6, 7, 8, 9]"
      ]
     },
     "execution_count": 20,
     "metadata": {},
     "output_type": "execute_result"
    }
   ],
   "source": [
    "mutate_rate = 0.5\n",
    "possible_bias_values = list(range(10))\n",
    "possible_bias_values"
   ]
  },
  {
   "cell_type": "code",
   "execution_count": 25,
   "metadata": {},
   "outputs": [],
   "source": [
    "n_nodes = 5000"
   ]
  },
  {
   "cell_type": "code",
   "execution_count": 21,
   "metadata": {},
   "outputs": [
    {
     "name": "stdout",
     "output_type": "stream",
     "text": [
      "CPU times: user 9.05 s, sys: 50.8 ms, total: 9.1 s\n",
      "Wall time: 9.06 s\n"
     ]
    }
   ],
   "source": [
    "%%time\n",
    "nodes = initialize_nodes(n_nodes, mutate_rate, possible_bias_values)"
   ]
  },
  {
   "cell_type": "code",
   "execution_count": 31,
   "metadata": {},
   "outputs": [],
   "source": [
    "def run_experiments(n_nodes_values, n_rep=10):\n",
    "    def _run_experiments(n_nodes_values, n_rep):\n",
    "        for n_nodes in n_nodes_values:\n",
    "            for rep in range(n_rep):\n",
    "                start = time.time()\n",
    "                nodes = initialize_nodes(n_nodes, mutate_rate, possible_bias_values)\n",
    "                elapsed = time.time() - start\n",
    "                yield n_nodes, elapsed\n",
    "    experiment_generator = _run_experiments(n_nodes_values, n_rep)\n",
    "    n_nodes_list, elapsed = zip(*experiment_generator)\n",
    "    return pd.DataFrame({'n_nodes': n_nodes_list,\n",
    "                         'elapsed': elapsed})\n",
    "    "
   ]
  },
  {
   "cell_type": "code",
   "execution_count": 37,
   "metadata": {},
   "outputs": [
    {
     "data": {
      "text/html": [
       "<div>\n",
       "<style scoped>\n",
       "    .dataframe tbody tr th:only-of-type {\n",
       "        vertical-align: middle;\n",
       "    }\n",
       "\n",
       "    .dataframe tbody tr th {\n",
       "        vertical-align: top;\n",
       "    }\n",
       "\n",
       "    .dataframe thead th {\n",
       "        text-align: right;\n",
       "    }\n",
       "</style>\n",
       "<table border=\"1\" class=\"dataframe\">\n",
       "  <thead>\n",
       "    <tr style=\"text-align: right;\">\n",
       "      <th></th>\n",
       "      <th>n_nodes</th>\n",
       "      <th>elapsed</th>\n",
       "    </tr>\n",
       "  </thead>\n",
       "  <tbody>\n",
       "    <tr>\n",
       "      <th>75</th>\n",
       "      <td>10000000</td>\n",
       "      <td>184.294261</td>\n",
       "    </tr>\n",
       "    <tr>\n",
       "      <th>76</th>\n",
       "      <td>10000000</td>\n",
       "      <td>183.550642</td>\n",
       "    </tr>\n",
       "    <tr>\n",
       "      <th>77</th>\n",
       "      <td>10000000</td>\n",
       "      <td>184.685852</td>\n",
       "    </tr>\n",
       "    <tr>\n",
       "      <th>78</th>\n",
       "      <td>10000000</td>\n",
       "      <td>184.172894</td>\n",
       "    </tr>\n",
       "    <tr>\n",
       "      <th>79</th>\n",
       "      <td>10000000</td>\n",
       "      <td>184.627489</td>\n",
       "    </tr>\n",
       "  </tbody>\n",
       "</table>\n",
       "</div>"
      ],
      "text/plain": [
       "     n_nodes     elapsed\n",
       "75  10000000  184.294261\n",
       "76  10000000  183.550642\n",
       "77  10000000  184.685852\n",
       "78  10000000  184.172894\n",
       "79  10000000  184.627489"
      ]
     },
     "execution_count": 37,
     "metadata": {},
     "output_type": "execute_result"
    }
   ],
   "source": [
    "n_nodes_values=[1, 10, 100, 1000, 10000, 100000, 1000000, 10000000]\n",
    "df = run_experiments(n_nodes_values=n_nodes_values, n_rep=10)\n",
    "df.to_csv('./pure_python.csv', index=False)\n",
    "df.tail()"
   ]
  }
 ],
 "metadata": {
  "kernelspec": {
   "display_name": "Python 3",
   "language": "python",
   "name": "python3"
  },
  "language_info": {
   "codemirror_mode": {
    "name": "ipython",
    "version": 3
   },
   "file_extension": ".py",
   "mimetype": "text/x-python",
   "name": "python",
   "nbconvert_exporter": "python",
   "pygments_lexer": "ipython3",
   "version": "3.7.3"
  }
 },
 "nbformat": 4,
 "nbformat_minor": 4
}
