{
 "cells": [
  {
   "cell_type": "code",
   "execution_count": 50,
   "metadata": {},
   "outputs": [
    {
     "name": "stdout",
     "output_type": "stream",
     "text": [
      "\u001b[32m\u001b[1m Resolving\u001b[22m\u001b[39m package versions...\n",
      "\u001b[32m\u001b[1m  Updating\u001b[22m\u001b[39m `/opt/julia/environments/v1.3/Project.toml`\n",
      "\u001b[90m [no changes]\u001b[39m\n",
      "\u001b[32m\u001b[1m  Updating\u001b[22m\u001b[39m `/opt/julia/environments/v1.3/Manifest.toml`\n",
      "\u001b[90m [no changes]\u001b[39m\n",
      "\u001b[32m\u001b[1m Resolving\u001b[22m\u001b[39m package versions...\n",
      "\u001b[32m\u001b[1m  Updating\u001b[22m\u001b[39m `/opt/julia/environments/v1.3/Project.toml`\n",
      "\u001b[90m [no changes]\u001b[39m\n",
      "\u001b[32m\u001b[1m  Updating\u001b[22m\u001b[39m `/opt/julia/environments/v1.3/Manifest.toml`\n",
      "\u001b[90m [no changes]\u001b[39m\n",
      "\u001b[32m\u001b[1m Resolving\u001b[22m\u001b[39m package versions...\n",
      "\u001b[32m\u001b[1m Installed\u001b[22m\u001b[39m WeakRefStrings ─ v0.6.2\n",
      "\u001b[32m\u001b[1m Installed\u001b[22m\u001b[39m FilePathsBase ── v0.7.0\n",
      "\u001b[32m\u001b[1m Installed\u001b[22m\u001b[39m CSV ──────────── v0.5.23\n",
      "\u001b[32m\u001b[1m  Updating\u001b[22m\u001b[39m `/opt/julia/environments/v1.3/Project.toml`\n",
      " \u001b[90m [336ed68f]\u001b[39m\u001b[92m + CSV v0.5.23\u001b[39m\n",
      "\u001b[32m\u001b[1m  Updating\u001b[22m\u001b[39m `/opt/julia/environments/v1.3/Manifest.toml`\n",
      " \u001b[90m [336ed68f]\u001b[39m\u001b[92m + CSV v0.5.23\u001b[39m\n",
      " \u001b[90m [48062228]\u001b[39m\u001b[92m + FilePathsBase v0.7.0\u001b[39m\n",
      " \u001b[90m [ea10d353]\u001b[39m\u001b[92m + WeakRefStrings v0.6.2\u001b[39m\n"
     ]
    }
   ],
   "source": [
    "using Pkg;\n",
    "Pkg.add(\"StatsBase\")\n",
    "Pkg.add(\"DataFrames\")\n",
    "Pkg.add(\"CSV\")"
   ]
  },
  {
   "cell_type": "code",
   "execution_count": 51,
   "metadata": {},
   "outputs": [
    {
     "name": "stderr",
     "output_type": "stream",
     "text": [
      "┌ Info: Precompiling CSV [336ed68f-0bac-5ca0-87d4-7b16caf5d00b]\n",
      "└ @ Base loading.jl:1273\n"
     ]
    }
   ],
   "source": [
    "using StatsBase\n",
    "using DataFrames\n",
    "using CSV"
   ]
  },
  {
   "cell_type": "code",
   "execution_count": 29,
   "metadata": {},
   "outputs": [
    {
     "data": {
      "text/plain": [
       "initialize_nodes_julia (generic function with 1 method)"
      ]
     },
     "execution_count": 29,
     "metadata": {},
     "output_type": "execute_result"
    }
   ],
   "source": [
    "mutable struct NodeJu\n",
    "  key::Int64\n",
    "  mutate_rate::Float64\n",
    "  possible_bias_values::Array{Int64,1}\n",
    "  bias::Float64\n",
    "  function NodeJu(key::Int, mutate_rate::Float64, possible_bias_values::Array{Int64,1})\n",
    "    node = new(key, mutate_rate, possible_bias_values, 0.0)\n",
    "    node\n",
    "  end\n",
    "end\n",
    "\n",
    "\n",
    "function mutate_bias!(node::NodeJu)\n",
    "  if rand() < mutate_rate\n",
    "    node.bias = StatsBase.sample(node.possible_bias_values);\n",
    "  end\n",
    "  node \n",
    "end\n",
    "\n",
    "\n",
    "function initialize_nodes_julia(n_nodes::Int, mutate_rate::Float64, possible_bias_values::Array{Int64,1})\n",
    "    nodes = Dict()\n",
    "    for i = 1 : n_nodes\n",
    "        node = NodeJu(i, \n",
    "                      mutate_rate, \n",
    "                      possible_bias_values)\n",
    "        mutate_bias!(node)\n",
    "        nodes[i] = node\n",
    "    end\n",
    "    nodes\n",
    "end"
   ]
  },
  {
   "cell_type": "code",
   "execution_count": 30,
   "metadata": {},
   "outputs": [
    {
     "data": {
      "text/plain": [
       "10-element Array{Int64,1}:\n",
       " 0\n",
       " 1\n",
       " 2\n",
       " 3\n",
       " 4\n",
       " 5\n",
       " 6\n",
       " 7\n",
       " 8\n",
       " 9"
      ]
     },
     "execution_count": 30,
     "metadata": {},
     "output_type": "execute_result"
    }
   ],
   "source": [
    "mutate_rate = 0.5\n",
    "possible_bias_values = collect(range(0, length=10))"
   ]
  },
  {
   "cell_type": "code",
   "execution_count": 36,
   "metadata": {},
   "outputs": [
    {
     "data": {
      "text/plain": [
       "5000000"
      ]
     },
     "execution_count": 36,
     "metadata": {},
     "output_type": "execute_result"
    }
   ],
   "source": [
    "n_nodes = 5000000"
   ]
  },
  {
   "cell_type": "code",
   "execution_count": 37,
   "metadata": {},
   "outputs": [
    {
     "name": "stdout",
     "output_type": "stream",
     "text": [
      "  3.928333 seconds (33.76 M allocations: 936.860 MiB, 29.66% gc time)\n"
     ]
    }
   ],
   "source": [
    "a = @time initialize_nodes_julia(n_nodes, mutate_rate, possible_bias_values);"
   ]
  },
  {
   "cell_type": "code",
   "execution_count": 41,
   "metadata": {},
   "outputs": [
    {
     "data": {
      "text/plain": [
       "4.01270395"
      ]
     },
     "execution_count": 41,
     "metadata": {},
     "output_type": "execute_result"
    }
   ],
   "source": [
    "a = @elapsed initialize_nodes_julia(n_nodes, mutate_rate, possible_bias_values);\n",
    "a"
   ]
  },
  {
   "cell_type": "code",
   "execution_count": 42,
   "metadata": {},
   "outputs": [
    {
     "data": {
      "text/plain": [
       "run_experiments (generic function with 1 method)"
      ]
     },
     "execution_count": 42,
     "metadata": {},
     "output_type": "execute_result"
    }
   ],
   "source": [
    "function run_experiments(n_nodes_values, n_rep)\n",
    "    n_nodes_list = []\n",
    "    elapsed_list = []\n",
    "\n",
    "    for n_nodes in n_nodes_values\n",
    "        for rep = 1:n_rep\n",
    "            push!(elapsed_list, @elapsed initialize_nodes_julia(n_nodes, mutate_rate, possible_bias_values));\n",
    "            push!(n_nodes_list, n_nodes)\n",
    "        end\n",
    "        \n",
    "    end\n",
    "    datadict = Dict(\"n_nodes\" => n_nodes_list, \"elapsed\" => elapsed_list)\n",
    "    df = DataFrame()\n",
    "    for (key, value) in datadict\n",
    "           df[Symbol(key)] = value\n",
    "    end\n",
    "    df\n",
    "end"
   ]
  },
  {
   "cell_type": "code",
   "execution_count": 55,
   "metadata": {},
   "outputs": [
    {
     "name": "stderr",
     "output_type": "stream",
     "text": [
      "┌ Warning: `tail(df::AbstractDataFrame)` is deprecated, use `last(df, 6)` instead.\n",
      "│   caller = top-level scope at In[55]:4\n",
      "└ @ Core In[55]:4\n"
     ]
    },
    {
     "data": {
      "text/html": [
       "<table class=\"data-frame\"><thead><tr><th></th><th>elapsed</th><th>n_nodes</th></tr><tr><th></th><th>Any</th><th>Any</th></tr></thead><tbody><p>6 rows × 2 columns</p><tr><th>1</th><td>10.518</td><td>10000000</td></tr><tr><th>2</th><td>10.0278</td><td>10000000</td></tr><tr><th>3</th><td>10.0673</td><td>10000000</td></tr><tr><th>4</th><td>10.0979</td><td>10000000</td></tr><tr><th>5</th><td>10.5074</td><td>10000000</td></tr><tr><th>6</th><td>10.2464</td><td>10000000</td></tr></tbody></table>"
      ],
      "text/latex": [
       "\\begin{tabular}{r|cc}\n",
       "\t& elapsed & n\\_nodes\\\\\n",
       "\t\\hline\n",
       "\t& Any & Any\\\\\n",
       "\t\\hline\n",
       "\t1 & 10.518 & 10000000 \\\\\n",
       "\t2 & 10.0278 & 10000000 \\\\\n",
       "\t3 & 10.0673 & 10000000 \\\\\n",
       "\t4 & 10.0979 & 10000000 \\\\\n",
       "\t5 & 10.5074 & 10000000 \\\\\n",
       "\t6 & 10.2464 & 10000000 \\\\\n",
       "\\end{tabular}\n"
      ],
      "text/plain": [
       "6×2 DataFrame\n",
       "│ Row │ elapsed │ n_nodes  │\n",
       "│     │ \u001b[90mAny\u001b[39m     │ \u001b[90mAny\u001b[39m      │\n",
       "├─────┼─────────┼──────────┤\n",
       "│ 1   │ 10.518  │ 10000000 │\n",
       "│ 2   │ 10.0278 │ 10000000 │\n",
       "│ 3   │ 10.0673 │ 10000000 │\n",
       "│ 4   │ 10.0979 │ 10000000 │\n",
       "│ 5   │ 10.5074 │ 10000000 │\n",
       "│ 6   │ 10.2464 │ 10000000 │"
      ]
     },
     "execution_count": 55,
     "metadata": {},
     "output_type": "execute_result"
    }
   ],
   "source": [
    "n_nodes_values=[1, 10, 100, 1000, 10000, 100000, 1000000, 10000000]\n",
    "df = run_experiments(n_nodes_values, 10)\n",
    "CSV.write(\"./pure_julia.csv\",df)\n",
    "tail(df)"
   ]
  },
  {
   "cell_type": "code",
   "execution_count": null,
   "metadata": {},
   "outputs": [],
   "source": []
  }
 ],
 "metadata": {
  "kernelspec": {
   "display_name": "Julia 1.3.0",
   "language": "julia",
   "name": "julia-1.3"
  },
  "language_info": {
   "file_extension": ".jl",
   "mimetype": "application/julia",
   "name": "julia",
   "version": "1.3.0"
  }
 },
 "nbformat": 4,
 "nbformat_minor": 4
}
