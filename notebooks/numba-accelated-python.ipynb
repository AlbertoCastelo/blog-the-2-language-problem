{
 "cells": [
  {
   "cell_type": "code",
   "execution_count": 18,
   "metadata": {},
   "outputs": [],
   "source": [
    "import numba\n",
    "from numba import types, typed\n",
    "import numpy as np\n",
    "import time\n",
    "import pandas as pd\n"
   ]
  },
  {
   "cell_type": "code",
   "execution_count": null,
   "metadata": {},
   "outputs": [],
   "source": []
  },
  {
   "cell_type": "markdown",
   "metadata": {},
   "source": [
    "## Numba Based"
   ]
  },
  {
   "cell_type": "code",
   "execution_count": 30,
   "metadata": {},
   "outputs": [],
   "source": [
    "spec_node = [('key', types.int32),\n",
    "             ('mutate_rate', types.float32),\n",
    "             ('possible_bias_values', types.int64[:]),\n",
    "             ('bias', types.float64)\n",
    "            ]\n",
    "\n",
    "@numba.jitclass(spec_node)\n",
    "class NodeNB:\n",
    "    \n",
    "    def __init__(self, key, mutate_rate, possible_bias_values):\n",
    "        self.key = key\n",
    "        self.mutate_rate = mutate_rate\n",
    "        self.possible_bias_values = possible_bias_values\n",
    "        self.bias = 0.0\n",
    "        \n",
    "    def get_bias(self):\n",
    "        return self.bias\n",
    "    \n",
    "    def get_key(self):\n",
    "        return self.key\n",
    "    \n",
    "    def mutate_bias(self):\n",
    "        r = np.random.random()\n",
    "        if r < self.mutate_rate:\n",
    "            self.bias = np.random.choice(self.possible_bias_values, size=1)[0]\n",
    "\n",
    "            \n",
    "@numba.njit()\n",
    "def get_numba_array(list_):\n",
    "    return np.array(list_)\n",
    "\n",
    "\n",
    "@numba.njit(debug=True)\n",
    "def initialize_nodes_numba(n_nodes, mutate_rate, possible_bias_values):\n",
    "    nodes = {}\n",
    "    for i in range(n_nodes):\n",
    "        node = NodeNB(i, \n",
    "                      mutate_rate, \n",
    "                      possible_bias_values)\n",
    "        node.mutate_bias()\n",
    "        nodes[i] = node\n",
    "    return nodes"
   ]
  },
  {
   "cell_type": "code",
   "execution_count": 21,
   "metadata": {},
   "outputs": [],
   "source": [
    "mutate_rate = 0.5\n",
    "possible_bias_values = list(range(10))\n",
    "typed_possible_bias_values = get_numba_array(possible_bias_values)"
   ]
  },
  {
   "cell_type": "code",
   "execution_count": 22,
   "metadata": {},
   "outputs": [],
   "source": [
    "n_nodes = 5000000"
   ]
  },
  {
   "cell_type": "code",
   "execution_count": 23,
   "metadata": {},
   "outputs": [
    {
     "name": "stdout",
     "output_type": "stream",
     "text": [
      "CPU times: user 1.41 s, sys: 203 ms, total: 1.61 s\n",
      "Wall time: 1.61 s\n"
     ]
    }
   ],
   "source": [
    "%%time\n",
    "nodes = initialize_nodes_numba(n_nodes, mutate_rate, typed_possible_bias_values)"
   ]
  },
  {
   "cell_type": "code",
   "execution_count": 26,
   "metadata": {},
   "outputs": [],
   "source": [
    "def run_experiments(n_nodes_values, n_rep=10):\n",
    "    def _run_experiments(n_nodes_values, n_rep):\n",
    "        for n_nodes in n_nodes_values:\n",
    "            for rep in range(n_rep):\n",
    "                start = time.time()\n",
    "                nodes = initialize_nodes_numba(n_nodes, mutate_rate, typed_possible_bias_values)\n",
    "                elapsed = time.time() - start\n",
    "                yield n_nodes, elapsed\n",
    "    experiment_generator = _run_experiments(n_nodes_values, n_rep)\n",
    "    n_nodes_list, elapsed = zip(*experiment_generator)\n",
    "    return pd.DataFrame({'n_nodes': n_nodes_list,\n",
    "                         'elapsed': elapsed})\n",
    "    "
   ]
  },
  {
   "cell_type": "code",
   "execution_count": 29,
   "metadata": {},
   "outputs": [
    {
     "data": {
      "text/html": [
       "<div>\n",
       "<style scoped>\n",
       "    .dataframe tbody tr th:only-of-type {\n",
       "        vertical-align: middle;\n",
       "    }\n",
       "\n",
       "    .dataframe tbody tr th {\n",
       "        vertical-align: top;\n",
       "    }\n",
       "\n",
       "    .dataframe thead th {\n",
       "        text-align: right;\n",
       "    }\n",
       "</style>\n",
       "<table border=\"1\" class=\"dataframe\">\n",
       "  <thead>\n",
       "    <tr style=\"text-align: right;\">\n",
       "      <th></th>\n",
       "      <th>n_nodes</th>\n",
       "      <th>elapsed</th>\n",
       "    </tr>\n",
       "  </thead>\n",
       "  <tbody>\n",
       "    <tr>\n",
       "      <th>75</th>\n",
       "      <td>10000000</td>\n",
       "      <td>3.009400</td>\n",
       "    </tr>\n",
       "    <tr>\n",
       "      <th>76</th>\n",
       "      <td>10000000</td>\n",
       "      <td>2.984443</td>\n",
       "    </tr>\n",
       "    <tr>\n",
       "      <th>77</th>\n",
       "      <td>10000000</td>\n",
       "      <td>2.977656</td>\n",
       "    </tr>\n",
       "    <tr>\n",
       "      <th>78</th>\n",
       "      <td>10000000</td>\n",
       "      <td>2.921214</td>\n",
       "    </tr>\n",
       "    <tr>\n",
       "      <th>79</th>\n",
       "      <td>10000000</td>\n",
       "      <td>2.958933</td>\n",
       "    </tr>\n",
       "  </tbody>\n",
       "</table>\n",
       "</div>"
      ],
      "text/plain": [
       "     n_nodes   elapsed\n",
       "75  10000000  3.009400\n",
       "76  10000000  2.984443\n",
       "77  10000000  2.977656\n",
       "78  10000000  2.921214\n",
       "79  10000000  2.958933"
      ]
     },
     "execution_count": 29,
     "metadata": {},
     "output_type": "execute_result"
    }
   ],
   "source": [
    "n_nodes_values=[1, 10, 100, 1000, 10000, 100000, 1000000, 10000000]\n",
    "df = run_experiments(n_nodes_values=n_nodes_values, n_rep=10)\n",
    "df.to_csv('./numba_accelarated_python.csv', index=False)\n",
    "df.tail()"
   ]
  },
  {
   "cell_type": "code",
   "execution_count": null,
   "metadata": {},
   "outputs": [],
   "source": []
  }
 ],
 "metadata": {
  "kernelspec": {
   "display_name": "Python 3",
   "language": "python",
   "name": "python3"
  },
  "language_info": {
   "codemirror_mode": {
    "name": "ipython",
    "version": 3
   },
   "file_extension": ".py",
   "mimetype": "text/x-python",
   "name": "python",
   "nbconvert_exporter": "python",
   "pygments_lexer": "ipython3",
   "version": "3.7.3"
  }
 },
 "nbformat": 4,
 "nbformat_minor": 4
}
